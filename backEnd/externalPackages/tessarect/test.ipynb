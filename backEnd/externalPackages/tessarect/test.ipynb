{
 "cells": [
  {
   "cell_type": "code",
   "execution_count": 3,
   "metadata": {},
   "outputs": [
    {
     "ename": "ModuleNotFoundError",
     "evalue": "No module named 'cv2'",
     "output_type": "error",
     "traceback": [
      "\u001b[1;31m---------------------------------------------------------------------------\u001b[0m",
      "\u001b[1;31mModuleNotFoundError\u001b[0m                       Traceback (most recent call last)",
      "Cell \u001b[1;32mIn[3], line 2\u001b[0m\n\u001b[0;32m      1\u001b[0m \u001b[39mfrom\u001b[39;00m \u001b[39mdatetime\u001b[39;00m \u001b[39mimport\u001b[39;00m datetime, timedelta\n\u001b[1;32m----> 2\u001b[0m \u001b[39mfrom\u001b[39;00m \u001b[39mbackEnd\u001b[39;00m\u001b[39m.\u001b[39;00m\u001b[39morderScan\u001b[39;00m\u001b[39m.\u001b[39;00m\u001b[39mget_other_info\u001b[39;00m \u001b[39mimport\u001b[39;00m get_days_in_week\n\u001b[0;32m      3\u001b[0m year \u001b[39m=\u001b[39m \u001b[39m2025\u001b[39m\n\u001b[0;32m      4\u001b[0m weekNr \u001b[39m=\u001b[39m \u001b[39m1\u001b[39m\n",
      "File \u001b[1;32mc:\\Users\\Jakob\\Documents\\Malt\\Gooise_Tafel\\repo\\GooiseTafel\\backEnd\\orderScan\\get_other_info.py:5\u001b[0m\n\u001b[0;32m      1\u001b[0m \u001b[39m# import sys\u001b[39;00m\n\u001b[0;32m      2\u001b[0m \n\u001b[0;32m      3\u001b[0m \u001b[39m# sys.path.append('/Users/jakob/.pyenv/versions/3.9.1/lib/python3.9/site-packages')\u001b[39;00m\n\u001b[1;32m----> 5\u001b[0m \u001b[39mimport\u001b[39;00m \u001b[39mcv2\u001b[39;00m\n\u001b[0;32m      6\u001b[0m \u001b[39mfrom\u001b[39;00m \u001b[39mmatplotlib\u001b[39;00m \u001b[39mimport\u001b[39;00m pyplot \u001b[39mas\u001b[39;00m plt\n\u001b[0;32m      7\u001b[0m \u001b[39mfrom\u001b[39;00m \u001b[39mnumpy\u001b[39;00m \u001b[39mimport\u001b[39;00m ndarray\n",
      "\u001b[1;31mModuleNotFoundError\u001b[0m: No module named 'cv2'"
     ]
    }
   ],
   "source": [
    "from datetime import datetime, timedelta, date\n",
    "year = 2025\n",
    "weekNr = 1\n",
    "\n",
    "def get_days_in_week(week_number: int, year: int) -> list[datetime]:\n",
    "    # first week of the year is based upon the 4th of Jan\n",
    "    january_4 = date(year, 1, 4)\n",
    "\n",
    "    # Find the Monday of the week that contains January 4th\n",
    "    first_monday = january_4 - timedelta(days=january_4.weekday())\n",
    "\n",
    "    # Calculate the start date of the desired week\n",
    "    start_date = first_monday + timedelta(weeks=week_number - 1)\n",
    "\n",
    "    # Generate dates for the entire week\n",
    "    week_dates = [start_date + timedelta(days=i) for i in range(6)]\n",
    "    return week_dates\n",
    "\n",
    "\n",
    "first_day = datetime.strptime(f\"{year}-W{weekNr}-1\", \"%Y-W%W-%w\").date()\n",
    "# Create a list of dates ranging from monday to saturday\n",
    "dates = [first_day + timedelta(days=i) for i in range(6)]\n",
    "print(dates)\n",
    "\n",
    "print(get_days_in_week(weekNr, year))"
   ]
  },
  {
   "cell_type": "code",
   "execution_count": 2,
   "metadata": {},
   "outputs": [
    {
     "name": "stderr",
     "output_type": "stream",
     "text": [
      "c:\\Users\\Jakob\\Documents\\Malt\\Gooise_Tafel\\repo\\GooiseTafel\\backEnd\\uaLabel.py:129: SettingWithCopyWarning: \n",
      "A value is trying to be set on a copy of a slice from a DataFrame\n",
      "\n",
      "See the caveats in the documentation: https://pandas.pydata.org/pandas-docs/stable/user_guide/indexing.html#returning-a-view-versus-a-copy\n",
      "  mealOverview[\"day\"].fillna(method=\"ffill\", inplace=True)\n"
     ]
    }
   ],
   "source": []
  },
  {
   "cell_type": "code",
   "execution_count": 3,
   "metadata": {},
   "outputs": [],
   "source": [
    "\n",
    "                    \n"
   ]
  },
  {
   "cell_type": "code",
   "execution_count": 4,
   "metadata": {},
   "outputs": [
    {
     "data": {
      "text/plain": [
       "'Procureurlapje (varkensvlees)'"
      ]
     },
     "execution_count": 4,
     "metadata": {},
     "output_type": "execute_result"
    }
   ],
   "source": [
    "dict[\"Maandag\"][0].meal"
   ]
  },
  {
   "cell_type": "code",
   "execution_count": null,
   "metadata": {},
   "outputs": [],
   "source": []
  }
 ],
 "metadata": {
  "kernelspec": {
   "display_name": "Python 3",
   "language": "python",
   "name": "python3"
  },
  "language_info": {
   "codemirror_mode": {
    "name": "ipython",
    "version": 3
   },
   "file_extension": ".py",
   "mimetype": "text/x-python",
   "name": "python",
   "nbconvert_exporter": "python",
   "pygments_lexer": "ipython3",
   "version": "3.9.1"
  },
  "orig_nbformat": 4
 },
 "nbformat": 4,
 "nbformat_minor": 2
}
