{
 "cells": [
  {
   "cell_type": "code",
   "execution_count": 1,
   "metadata": {},
   "outputs": [],
   "source": [
    "import pandas as pd\n",
    "import numpy as np\n",
    "from helperFunctions import prepareExactData, prepareLightSpeedData\n",
    "from constants import orders, customers"
   ]
  },
  {
   "cell_type": "code",
   "execution_count": 2,
   "metadata": {},
   "outputs": [
    {
     "name": "stderr",
     "output_type": "stream",
     "text": [
      "c:\\Python39\\lib\\site-packages\\pandas\\util\\_decorators.py:311: SettingWithCopyWarning: \n",
      "A value is trying to be set on a copy of a slice from a DataFrame\n",
      "\n",
      "See the caveats in the documentation: https://pandas.pydata.org/pandas-docs/stable/user_guide/indexing.html#returning-a-view-versus-a-copy\n",
      "  return func(*args, **kwargs)\n",
      "c:\\Python39\\lib\\site-packages\\pandas\\util\\_decorators.py:311: ParserWarning: Falling back to the 'python' engine because the 'c' engine does not support regex separators (separators > 1 char and different from '\\s+' are interpreted as regex); you can avoid this warning by specifying engine='python'.\n",
      "  return func(*args, **kwargs)\n"
     ]
    }
   ],
   "source": [
    "#import data\n",
    "dfCustomers = pd.read_excel(r\"C:\\Users\\Jakob\\Documents\\Malt\\Gooise_Tafel\\code\\script-blueprints\\Input\\klanten-bestand.xlsx\",  header=None)\n",
    "customerData = prepareExactData(dfCustomers, customers.ankerWord, customers.columnNames)\n",
    "\n",
    "# dfKal = pd.read_excel(r\"C:\\Users\\Jakob\\Documents\\Malt\\Gooise_Tafel\\code\\script-blueprints\\Input\\kal-orders.xlsx\",  header=None)\n",
    "# orderData = prepareExactData(dfKal, orders.ankerWord, orders.columnNamesCustomers)\n",
    "\n",
    "# dfGotalabel = pd.read_excel(r\"C:\\Users\\Jakob\\Documents\\Malt\\Gooise_Tafel\\code\\script-blueprints\\Input\\gotalabel-orders.xlsx\",  header=None)\n",
    "# orderData = prepareExactData(dfGotalabel, orders.ankerWord, orders.columnNamesCustomers)\n",
    "\n",
    "dfWebShopRaw = pd.read_csv(r\"C:\\Users\\Jakob\\Documents\\Malt\\Gooise_Tafel\\code\\script-blueprints\\Input\\webshop-orders.csv\",  sep='delimiter', header=None)\n",
    "webShopData = prepareLightSpeedData(dfWebShopRaw)\n"
   ]
  },
  {
   "cell_type": "code",
   "execution_count": null,
   "metadata": {},
   "outputs": [],
   "source": []
  }
 ],
 "metadata": {
  "kernelspec": {
   "display_name": "Python 3",
   "language": "python",
   "name": "python3"
  },
  "language_info": {
   "codemirror_mode": {
    "name": "ipython",
    "version": 3
   },
   "file_extension": ".py",
   "mimetype": "text/x-python",
   "name": "python",
   "nbconvert_exporter": "python",
   "pygments_lexer": "ipython3",
   "version": "3.9.1"
  },
  "orig_nbformat": 4
 },
 "nbformat": 4,
 "nbformat_minor": 2
}
