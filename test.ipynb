{
 "cells": [
  {
   "cell_type": "code",
   "execution_count": 4,
   "metadata": {},
   "outputs": [
    {
     "ename": "IndexError",
     "evalue": "list index out of range",
     "output_type": "error",
     "traceback": [
      "\u001b[1;31m---------------------------------------------------------------------------\u001b[0m",
      "\u001b[1;31mIndexError\u001b[0m                                Traceback (most recent call last)",
      "Cell \u001b[1;32mIn[4], line 10\u001b[0m\n\u001b[0;32m      7\u001b[0m filePathMealOverview \u001b[39m=\u001b[39m sl\u001b[39m.\u001b[39mMealOverviewInput \u001b[39m/\u001b[39m MealOverviewFile\n\u001b[0;32m      9\u001b[0m gtVultIn \u001b[39m=\u001b[39m GTVultIn()\n\u001b[1;32m---> 10\u001b[0m gtVultIn\u001b[39m.\u001b[39;49mloadMealOverView(filePathMealOverview)\n\u001b[0;32m     11\u001b[0m \u001b[39mprint\u001b[39m(\u001b[39m\"\u001b[39m\u001b[39mFinished gtVultIn retrieval\u001b[39m\u001b[39m\"\u001b[39m)\n",
      "File \u001b[1;32mc:\\Users\\Jakob\\Documents\\Malt\\Gooise_Tafel\\repo\\GooiseTafel\\backEnd\\gtVultIn.py:26\u001b[0m, in \u001b[0;36mGTVultIn.loadMealOverView\u001b[1;34m(self, filePathMealOverview)\u001b[0m\n\u001b[0;32m     20\u001b[0m \u001b[39m\u001b[39m\u001b[39m\"\"\"When a meal overview is loaded in, convert it to a dataframe and retrieve the order days and the meals from it\u001b[39;00m\n\u001b[0;32m     21\u001b[0m \n\u001b[0;32m     22\u001b[0m \u001b[39mArgs:\u001b[39;00m\n\u001b[0;32m     23\u001b[0m \u001b[39m    filePathMealOverview (Path):The file location of the meal overview excel\u001b[39;00m\n\u001b[0;32m     24\u001b[0m \u001b[39m\"\"\"\u001b[39;00m\n\u001b[0;32m     25\u001b[0m \u001b[39mself\u001b[39m\u001b[39m.\u001b[39mmealOverviewRaw \u001b[39m=\u001b[39m \u001b[39mself\u001b[39m\u001b[39m.\u001b[39mgetMealOverviewRaw(filePathMealOverview)\n\u001b[1;32m---> 26\u001b[0m \u001b[39mself\u001b[39m\u001b[39m.\u001b[39morderDays \u001b[39m=\u001b[39m \u001b[39mself\u001b[39;49m\u001b[39m.\u001b[39;49mgetOrderDaysDict()\n\u001b[0;32m     27\u001b[0m \u001b[39mself\u001b[39m\u001b[39m.\u001b[39mmealsAndCodesDict \u001b[39m=\u001b[39m \u001b[39mself\u001b[39m\u001b[39m.\u001b[39mgetMealsAndCodesDict()\n",
      "File \u001b[1;32mc:\\Users\\Jakob\\Documents\\Malt\\Gooise_Tafel\\repo\\GooiseTafel\\backEnd\\gtVultIn.py:122\u001b[0m, in \u001b[0;36mGTVultIn.getOrderDaysDict\u001b[1;34m(self)\u001b[0m\n\u001b[0;32m    120\u001b[0m         dateDict[orderDay] \u001b[39m=\u001b[39m dateTimeDays[index \u001b[39m-\u001b[39m \u001b[39m1\u001b[39m]\n\u001b[0;32m    121\u001b[0m         \u001b[39mcontinue\u001b[39;00m\n\u001b[1;32m--> 122\u001b[0m     dateDict[orderDay] \u001b[39m=\u001b[39m dateTimeDays[index]\n\u001b[0;32m    124\u001b[0m \u001b[39m# Remove the entry from the dictionary if it contains the word \"GEEN\"\u001b[39;00m\n\u001b[0;32m    125\u001b[0m fitleredDateDict \u001b[39m=\u001b[39m {\n\u001b[0;32m    126\u001b[0m     key: value \u001b[39mfor\u001b[39;00m key, value \u001b[39min\u001b[39;00m dateDict\u001b[39m.\u001b[39mitems() \u001b[39mif\u001b[39;00m \u001b[39m\"\u001b[39m\u001b[39mGEEN\u001b[39m\u001b[39m\"\u001b[39m \u001b[39mnot\u001b[39;00m \u001b[39min\u001b[39;00m key\n\u001b[0;32m    127\u001b[0m }\n",
      "\u001b[1;31mIndexError\u001b[0m: list index out of range"
     ]
    }
   ],
   "source": [
    "from backEnd.gtVultIn import GTVultIn\n",
    "from backEnd.constants import saveLocations as sl\n",
    "\n",
    "\n",
    "if __name__ == \"__main__\":\n",
    "    MealOverviewFile = \"maaltijdoverzicht week 22-2023 koningsdag.xlsx\"\n",
    "    filePathMealOverview = sl.MealOverviewInput / MealOverviewFile\n",
    "\n",
    "    gtVultIn = GTVultIn()\n",
    "    gtVultIn.loadMealOverView(filePathMealOverview)\n",
    "    print(\"Finished gtVultIn retrieval\")"
   ]
  },
  {
   "cell_type": "code",
   "execution_count": null,
   "metadata": {},
   "outputs": [],
   "source": [
    "metaData = mealOverviewRaw.iloc[0,0]\n",
    "indexWeek = metaData.index(\"WEEK\")\n",
    "metaDataList = metaData.split()\n",
    "weekAndYear = metaDataList[index + 1 ]\n",
    "year, week = weekAndYear.split('-')\n",
    "year = int(year)\n",
    "week = int(week)\n",
    "print(type(year))\n",
    "print(week)"
   ]
  },
  {
   "cell_type": "code",
   "execution_count": null,
   "metadata": {},
   "outputs": [],
   "source": [
    "from datetime import datetime, timedelta\n",
    "\n",
    "def get_dates_from_week(week_number, year):\n",
    "    # Create a datetime object for the first day of the given week and year\n",
    "    first_day = datetime.strptime(f'{year}-W{week_number}-1', \"%Y-W%W-%w\").date()\n",
    "\n",
    "    # Create a list of dates ranging from monday to friday\n",
    "    dates = [first_day + timedelta(days=i) for i in range(5)]\n",
    "\n",
    "    return dates\n",
    "\n",
    "# Example usage:\n",
    "week_number = 22\n",
    "year = 2023\n",
    "dates = get_dates_from_week(week_number, year)\n",
    "print(dates)"
   ]
  },
  {
   "cell_type": "code",
   "execution_count": null,
   "metadata": {},
   "outputs": [],
   "source": [
    "days = ['MA', \"DI\", \"WO\", \"DO\", \"VR\"]\n",
    "\n",
    "orderDays = []\n",
    "for index, day in enumerate(days):\n",
    "    #Find first row where MA can be found, save that row\n",
    "    rowsContainingMask = mealOverviewRaw.iloc[:, index].str.contains(rf'\\b{day}\\b', na=False)\n",
    "    if(~rowsContainingMask.any()):\n",
    "        print('all false')\n",
    "        continue\n",
    "    firstRowContaining = mealOverviewRaw.loc[rowsContainingMask.idxmax()]\n",
    "    orderDays = firstRowContaining.iloc[:6].tolist()\n",
    "    break\n",
    "\n",
    "if(orderDays):\n",
    "    print(\"Days found\")\n",
    "else:\n",
    "    print(\"No days found\")\n",
    "print(orderDays)"
   ]
  },
  {
   "cell_type": "code",
   "execution_count": null,
   "metadata": {},
   "outputs": [],
   "source": [
    "dateDict = {}\n",
    "for index, orderDay in enumerate(orderDays):\n",
    "    if\"KOELVERS\" in orderDay:\n",
    "            dateDict[orderDay] = dates[index -1]\n",
    "            continue\n",
    "    dateDict[orderDay] = dates[index]\n",
    "    \n",
    "# Remove the entry from the dictionary if it contains the word \"GEEN\"\n",
    "filtered_dict = {\n",
    "        key: value for key, value in dateDict.items() if \"GEEN\" not in key\n",
    "}\n",
    "print(filtered_dict)"
   ]
  }
 ],
 "metadata": {
  "kernelspec": {
   "display_name": "Python 3",
   "language": "python",
   "name": "python3"
  },
  "language_info": {
   "codemirror_mode": {
    "name": "ipython",
    "version": 3
   },
   "file_extension": ".py",
   "mimetype": "text/x-python",
   "name": "python",
   "nbconvert_exporter": "python",
   "pygments_lexer": "ipython3",
   "version": "3.9.1"
  },
  "orig_nbformat": 4
 },
 "nbformat": 4,
 "nbformat_minor": 2
}
