{
 "cells": [
  {
   "cell_type": "code",
   "execution_count": 1,
   "metadata": {},
   "outputs": [],
   "source": [
    "from pathlib import Path \n",
    " \n",
    "exportFolder = Path(\n",
    "    r\"C:\\Users\\Jakob\\Documents\\Malt\\Gooise_Tafel\\repo\\GooiseTafel\\export\"\n",
    ")\n",
    "exportFileName = \"test.csv\"\n",
    "exportPath = exportFolder / exportFileName"
   ]
  },
  {
   "cell_type": "code",
   "execution_count": 2,
   "metadata": {},
   "outputs": [
    {
     "name": "stdout",
     "output_type": "stream",
     "text": [
      "01-03-2023 - 05-03-2023\n"
     ]
    }
   ],
   "source": [
    "\n",
    "import pandas as pd\n",
    "\n",
    "# create a sample dataframe\n",
    "data = {\n",
    "    'dates': ['01-03-2023', '03-03-2023', '02-03-2023', '05-03-2023', '04-03-2023']\n",
    "}\n",
    "df = pd.DataFrame(data)\n",
    "\n",
    "# convert dates column to datetime format\n",
    "df['dates'] = pd.to_datetime(df['dates'], format='%d-%m-%Y')\n",
    "\n",
    "# extract date range\n",
    "date_range = df['dates'].min().strftime('%d-%m-%Y') + ' - ' + df['dates'].max().strftime('%d-%m-%Y')\n",
    "\n",
    "# print date range string\n",
    "print(date_range)"
   ]
  }
 ],
 "metadata": {
  "kernelspec": {
   "display_name": "Python 3",
   "language": "python",
   "name": "python3"
  },
  "language_info": {
   "codemirror_mode": {
    "name": "ipython",
    "version": 3
   },
   "file_extension": ".py",
   "mimetype": "text/x-python",
   "name": "python",
   "nbconvert_exporter": "python",
   "pygments_lexer": "ipython3",
   "version": "3.9.1"
  },
  "orig_nbformat": 4,
  "vscode": {
   "interpreter": {
    "hash": "81794d4967e6c3204c66dcd87b604927b115b27c00565d3d43f05ba2f3a2cb0d"
   }
  }
 },
 "nbformat": 4,
 "nbformat_minor": 2
}
