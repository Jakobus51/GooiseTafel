{
 "cells": [
  {
   "cell_type": "code",
   "execution_count": null,
   "metadata": {},
   "outputs": [],
   "source": [
    "import pandas as pd\n",
    "import numpy as np\n",
    "from helperFunctions import prepareExactData, prepareLightSpeedData\n",
    "from constants import orders, customers"
   ]
  },
  {
   "cell_type": "code",
   "execution_count": null,
   "metadata": {},
   "outputs": [],
   "source": [
    "#import data\n",
    "dfCustomers = pd.read_excel(r\"C:\\Users\\Jakob\\Documents\\Malt\\Gooise_Tafel\\code\\script-blueprints\\Input\\klanten-bestand.xlsx\",  header=None)\n",
    "customerData = prepareExactData(dfCustomers, customers.ankerWord, customers.columnNames)\n",
    "\n",
    "# dfKal = pd.read_excel(r\"C:\\Users\\Jakob\\Documents\\Malt\\Gooise_Tafel\\code\\script-blueprints\\Input\\kal-orders.xlsx\",  header=None)\n",
    "# orderData = prepareExactData(dfKal, orders.ankerWord, orders.columnNamesCustomers)\n",
    "\n",
    "# dfGotalabel = pd.read_excel(r\"C:\\Users\\Jakob\\Documents\\Malt\\Gooise_Tafel\\code\\script-blueprints\\Input\\gotalabel-orders.xlsx\",  header=None)\n",
    "# orderData = prepareExactData(dfGotalabel, orders.ankerWord, orders.columnNamesCustomers)\n",
    "\n",
    "dfWebShopRaw = pd.read_csv(r\"C:\\Users\\Jakob\\Documents\\Malt\\Gooise_Tafel\\code\\script-blueprints\\Input\\webshop-orders.csv\",  sep='delimiter', header=None)\n",
    "webShopData = prepareLightSpeedData(dfWebShopRaw)\n"
   ]
  },
  {
   "cell_type": "code",
   "execution_count": null,
   "metadata": {},
   "outputs": [],
   "source": [
    " # Set types and lowercase all columns that are compared\n",
    "webShopColumns = [\"Lastname\", \"Zipcode\", \"Streetname\", \"E-mail\"]\n",
    "webShopData[webShopColumns] = webShopData[webShopColumns].astype(str)\n",
    "webShopData[webShopColumns] = webShopData[webShopColumns].apply(\n",
    "    lambda x: x.str.lower()\n",
    ")\n",
    "webShopData[\"Number\"] = webShopData[\"Number\"].astype(int)\n",
    "\n",
    "customerColumns = [\"customerName\", \"address\", \"zipCode\", \"email\"]\n",
    "customerData[customerColumns] = customerData[customerColumns].astype(str)\n",
    "customerData[customerColumns] = customerData[customerColumns].apply(\n",
    "    lambda x: x.str.lower()\n",
    ")\n",
    "\n",
    "# merge webShopData with customerData on email and zipCode, returns only entries that were matched\n",
    "webShopMatched = pd.merge(\n",
    "    webShopData,\n",
    "    customerData,\n",
    "    left_on=[\"E-mail\", \"Zipcode\"],\n",
    "    right_on=[\"email\", \"zipCode\"],\n",
    ")\n",
    "\n",
    "# Checks which entries in the webShop are not yet matched and call them remaining\n",
    "maskRemaining = webShopData[\"OrderID\"].isin(webShopMatched[\"OrderID\"])\n",
    "webShopDataRemaining = webShopData[~maskRemaining]"
   ]
  },
  {
   "cell_type": "code",
   "execution_count": 6,
   "metadata": {},
   "outputs": [
    {
     "name": "stdout",
     "output_type": "stream",
     "text": [
      "   Lastname  Firstname\n",
      "0      True       True\n",
      "1      True       True\n",
      "2      True       True\n",
      "3      True       True\n"
     ]
    }
   ],
   "source": [
    "import pandas as pd\n",
    "\n",
    "# create a webShopData DataFrame\n",
    "webShopData = pd.DataFrame({\n",
    "    'OrderID': [101, 101, 102, 103],\n",
    "    'E-mail': ['jane.smith@example.com', 'jane.smith@example.com', 'mary.jones@example.com', 'robert.taylor@example.com'],\n",
    "    'Zipcode': ['12345','12345', '23456', '34567'],\n",
    "    'OrderTotal': [100, 444, 200, 150],\n",
    "    'Firstname': ['Jane', 'Jane', 'Mary', 'Robert'],\n",
    "    'Lastname': ['Smith', 'Smith', 'Jones', 'Taylor'],\n",
    "\n",
    "})\n",
    "\n",
    "# create a customerData DataFrame\n",
    "customerData = pd.DataFrame({\n",
    "    'CustomerID': [1, 2, 3],\n",
    "    'email': ['jane.smith@example.com', 'mary.jones@example.com', 'robert.taylor@example.com'],\n",
    "    'zipCode': ['23456', '12345','34567'],\n",
    "    'customerName': ['Jane Smith', 'Robert Jones', 'Mary Taylor'],\n",
    "})\n",
    "\n",
    "split_names = customerData['customerName'].str.split(expand=True)\n",
    "maskName = webShopData[['Lastname', 'Firstname']].isin(split_names.values.ravel())\n",
    "print(maskName)"
   ]
  },
  {
   "cell_type": "code",
   "execution_count": 5,
   "metadata": {},
   "outputs": [
    {
     "name": "stdout",
     "output_type": "stream",
     "text": [
      "   Lastname  Firstname\n",
      "0      True       True\n",
      "1      True       True\n",
      "2      True       True\n",
      "3      True       True\n"
     ]
    }
   ],
   "source": [
    "\n",
    "# # merge webShopData with customerData on email and zipCode, returns only entries that were matched\n",
    "# webShopMatched = pd.merge(webShopData, customerData, left_on=['E-mail', 'Zipcode'], right_on=['email', 'zipCode'])\n",
    "\n",
    "# #Checks which entries in the webShop are not yet matched and call them remaining\n",
    "# maskRemaining = webShopData['OrderID'].isin(webShopMatched['OrderID'])\n",
    "# webShopDataRemaining = webShopData[~maskRemaining]\n",
    "\n",
    "# print(webShopMatched)\n",
    "# print('---'*30)\n",
    "# print(webShopDataRemaining)"
   ]
  },
  {
   "cell_type": "code",
   "execution_count": null,
   "metadata": {},
   "outputs": [],
   "source": [
    "\n",
    "maskZipcode =  webShopDataRemaining['E-mail'].isin(customerData['email'])\n",
    "\n",
    "maskBoth = (maskZipcode & maskLastname)\n",
    "result = webShopDataRemaining[maskBoth]\n",
    "print(result)\n"
   ]
  }
 ],
 "metadata": {
  "kernelspec": {
   "display_name": "Python 3",
   "language": "python",
   "name": "python3"
  },
  "language_info": {
   "codemirror_mode": {
    "name": "ipython",
    "version": 3
   },
   "file_extension": ".py",
   "mimetype": "text/x-python",
   "name": "python",
   "nbconvert_exporter": "python",
   "pygments_lexer": "ipython3",
   "version": "3.9.1"
  },
  "orig_nbformat": 4,
  "vscode": {
   "interpreter": {
    "hash": "81794d4967e6c3204c66dcd87b604927b115b27c00565d3d43f05ba2f3a2cb0d"
   }
  }
 },
 "nbformat": 4,
 "nbformat_minor": 2
}
