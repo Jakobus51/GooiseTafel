{
 "cells": [
  {
   "cell_type": "code",
   "execution_count": null,
   "metadata": {},
   "outputs": [],
   "source": [
    "import pandas as pd\n",
    "import numpy as np\n",
    "from helperFunctions import prepareExactData, prepareLightSpeedData\n",
    "from constants import orders, customers"
   ]
  },
  {
   "cell_type": "code",
   "execution_count": null,
   "metadata": {},
   "outputs": [],
   "source": [
    "#import data\n",
    "dfCustomers = pd.read_excel(r\"C:\\Users\\Jakob\\Documents\\Malt\\Gooise_Tafel\\code\\script-blueprints\\Input\\klanten-bestand.xlsx\",  header=None)\n",
    "customerData = prepareExactData(dfCustomers, customers.ankerWord, customers.columnNames)\n",
    "\n",
    "# dfKal = pd.read_excel(r\"C:\\Users\\Jakob\\Documents\\Malt\\Gooise_Tafel\\code\\script-blueprints\\Input\\kal-orders.xlsx\",  header=None)\n",
    "# orderData = prepareExactData(dfKal, orders.ankerWord, orders.columnNamesCustomers)\n",
    "\n",
    "# dfGotalabel = pd.read_excel(r\"C:\\Users\\Jakob\\Documents\\Malt\\Gooise_Tafel\\code\\script-blueprints\\Input\\gotalabel-orders.xlsx\",  header=None)\n",
    "# orderData = prepareExactData(dfGotalabel, orders.ankerWord, orders.columnNamesCustomers)\n",
    "\n",
    "dfWebShopRaw = pd.read_csv(r\"C:\\Users\\Jakob\\Documents\\Malt\\Gooise_Tafel\\code\\script-blueprints\\Input\\webshop-orders.csv\",  sep='delimiter', header=None)\n",
    "webShopData = prepareLightSpeedData(dfWebShopRaw)\n"
   ]
  },
  {
   "cell_type": "code",
   "execution_count": null,
   "metadata": {},
   "outputs": [],
   "source": [
    "mask = webShopData[\"customerId\"].isin(customerData[\"customerId\"])\n"
   ]
  }
 ],
 "metadata": {
  "kernelspec": {
   "display_name": "Python 3",
   "language": "python",
   "name": "python3"
  },
  "language_info": {
   "codemirror_mode": {
    "name": "ipython",
    "version": 3
   },
   "file_extension": ".py",
   "mimetype": "text/x-python",
   "name": "python",
   "nbconvert_exporter": "python",
   "pygments_lexer": "ipython3",
   "version": "3.9.1"
  },
  "orig_nbformat": 4
 },
 "nbformat": 4,
 "nbformat_minor": 2
}
