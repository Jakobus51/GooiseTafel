{
 "cells": [
  {
   "cell_type": "code",
   "execution_count": null,
   "metadata": {},
   "outputs": [],
   "source": [
    "from backEnd.pakLijst import runPakLijst\n",
    "from backEnd.constants import saveLocations as sl\n",
    "\n",
    "if __name__ == \"__main__\":\n",
    "    #ordersFile = \"stickers 27-03.xlsx\"\n",
    "    ordersFile = \"gotalabel-orders.xlsx\"\n",
    "    filePathOrders = sl.PakLijstInput / ordersFile\n",
    "\n",
    "    test = runPakLijst(filePathOrders, sl.PakLijstOutput, False)\n",
    "    \n",
    "    deliveries = 0\n",
    "    meals = 0\n",
    "    for key in test:\n",
    "        df = test[key]\n",
    "        \n",
    "        print(key, df.shape[0])\n",
    "        print(key, df['quantity'].sum())\n",
    "        deliveries = deliveries + df.shape[0]\n",
    "        meals = meals + df['quantity'].sum()\n",
    "        \n",
    "        \n",
    "    print(\"total deliveries:  \" + str(deliveries))\n",
    "    print(\"total meals:  \" + str(meals))\n",
    "\n"
   ]
  },
  {
   "cell_type": "code",
   "execution_count": 1,
   "metadata": {},
   "outputs": [
    {
     "name": "stdout",
     "output_type": "stream",
     "text": [
      "inkord succes\n"
     ]
    }
   ],
   "source": [
    "from backEnd.constants import pdfEnum\n",
    "test2 = pdfEnum.Inkord\n",
    "print(test2.type)"
   ]
  },
  {
   "cell_type": "code",
   "execution_count": null,
   "metadata": {},
   "outputs": [],
   "source": []
  }
 ],
 "metadata": {
  "kernelspec": {
   "display_name": "Python 3",
   "language": "python",
   "name": "python3"
  },
  "language_info": {
   "codemirror_mode": {
    "name": "ipython",
    "version": 3
   },
   "file_extension": ".py",
   "mimetype": "text/x-python",
   "name": "python",
   "nbconvert_exporter": "python",
   "pygments_lexer": "ipython3",
   "version": "3.9.1"
  },
  "orig_nbformat": 4,
  "vscode": {
   "interpreter": {
    "hash": "81794d4967e6c3204c66dcd87b604927b115b27c00565d3d43f05ba2f3a2cb0d"
   }
  }
 },
 "nbformat": 4,
 "nbformat_minor": 2
}
